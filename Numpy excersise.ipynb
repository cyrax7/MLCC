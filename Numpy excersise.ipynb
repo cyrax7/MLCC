{
  "nbformat": 4,
  "nbformat_minor": 0,
  "metadata": {
    "colab": {
      "name": "Untitled1.ipynb",
      "version": "0.3.2",
      "provenance": [],
      "include_colab_link": true
    },
    "kernelspec": {
      "name": "python3",
      "display_name": "Python 3"
    }
  },
  "cells": [
    {
      "cell_type": "markdown",
      "metadata": {
        "id": "view-in-github",
        "colab_type": "text"
      },
      "source": [
        "[View in Colaboratory](https://colab.research.google.com/github/rupamcyrax799/MLCC/blob/master/Numpy%20excersise.ipynb)"
      ]
    },
    {
      "metadata": {
        "id": "IdVb3-5ktTos",
        "colab_type": "text"
      },
      "cell_type": "markdown",
      "source": [
        " ***NUMPY EXERCISE***\n",
        "\n",
        "\n",
        "\n"
      ]
    },
    {
      "metadata": {
        "id": "eR_M_2XZtijp",
        "colab_type": "code",
        "colab": {
          "base_uri": "https://localhost:8080/",
          "height": 204
        },
        "outputId": "4e6b0878-6a3f-4551-9752-aa8f19e22030"
      },
      "cell_type": "code",
      "source": [
        "import numpy as np \n",
        "a=np.linspace(-1.3,2.5,64)\n",
        "print(a)"
      ],
      "execution_count": 2,
      "outputs": [
        {
          "output_type": "stream",
          "text": [
            "[-1.3        -1.23968254 -1.17936508 -1.11904762 -1.05873016 -0.9984127\n",
            " -0.93809524 -0.87777778 -0.81746032 -0.75714286 -0.6968254  -0.63650794\n",
            " -0.57619048 -0.51587302 -0.45555556 -0.3952381  -0.33492063 -0.27460317\n",
            " -0.21428571 -0.15396825 -0.09365079 -0.03333333  0.02698413  0.08730159\n",
            "  0.14761905  0.20793651  0.26825397  0.32857143  0.38888889  0.44920635\n",
            "  0.50952381  0.56984127  0.63015873  0.69047619  0.75079365  0.81111111\n",
            "  0.87142857  0.93174603  0.99206349  1.05238095  1.11269841  1.17301587\n",
            "  1.23333333  1.29365079  1.35396825  1.41428571  1.47460317  1.53492063\n",
            "  1.5952381   1.65555556  1.71587302  1.77619048  1.83650794  1.8968254\n",
            "  1.95714286  2.01746032  2.07777778  2.13809524  2.1984127   2.25873016\n",
            "  2.31904762  2.37936508  2.43968254  2.5       ]\n"
          ],
          "name": "stdout"
        }
      ]
    },
    {
      "metadata": {
        "id": "AuPrp2y2vW9G",
        "colab_type": "code",
        "colab": {
          "base_uri": "https://localhost:8080/",
          "height": 68
        },
        "outputId": "d074a9a4-f687-4a19-a276-a66ba655e034"
      },
      "cell_type": "code",
      "source": [
        "#Generating cyclic array of length 3n\n",
        "a=np.array([1,2,3])\n",
        "print (a)\n",
        "n=input(\"Enter the array length : \")\n",
        "b=np.resize(a,(3*int(n)))\n",
        "print (b)"
      ],
      "execution_count": 3,
      "outputs": [
        {
          "output_type": "stream",
          "text": [
            "[1 2 3]\n",
            "Enter the array length : 4\n",
            "[1 2 3 1 2 3 1 2 3 1 2 3]\n"
          ],
          "name": "stdout"
        }
      ]
    },
    {
      "metadata": {
        "id": "tz1DxzIuvgpf",
        "colab_type": "code",
        "colab": {
          "base_uri": "https://localhost:8080/",
          "height": 51
        },
        "outputId": "198e3284-5e0f-4320-b9d4-2299feb77cb7"
      },
      "cell_type": "code",
      "source": [
        "#Generating an array of the first 10 odd numbers\n",
        "a= np.arange(1,20,2)\n",
        "print(\"Set of first 10 odd numbers: \")\n",
        "print(a)"
      ],
      "execution_count": 4,
      "outputs": [
        {
          "output_type": "stream",
          "text": [
            "Set of first 10 odd numbers: \n",
            "[ 1  3  5  7  9 11 13 15 17 19]\n"
          ],
          "name": "stdout"
        }
      ]
    },
    {
      "metadata": {
        "id": "Nps9vbQ23vPD",
        "colab_type": "code",
        "colab": {
          "base_uri": "https://localhost:8080/",
          "height": 34
        },
        "outputId": "6b9b7191-aa15-49bc-89bd-b21acfaefe7f"
      },
      "cell_type": "code",
      "source": [
        "#Finding the intersection between two arrays\n",
        "a = np.array([1,2,3,2,3,4,3,4,5,6])\n",
        "b = np.array([7,2,10,2,7,4,9,4,9,8])\n",
        "op=np.intersect1d(a,b)\n",
        "print(op)"
      ],
      "execution_count": 5,
      "outputs": [
        {
          "output_type": "stream",
          "text": [
            "[2 4]\n"
          ],
          "name": "stdout"
        }
      ]
    },
    {
      "metadata": {
        "id": "T9RxWePS4l0X",
        "colab_type": "code",
        "colab": {
          "base_uri": "https://localhost:8080/",
          "height": 51
        },
        "outputId": "9cac3853-d875-4dd9-971c-b1d0b639aab9"
      },
      "cell_type": "code",
      "source": [
        "#Reshaping an Array\n",
        "a = np.arange(10)\n",
        "op= np.reshape(a,(-1,5))\n",
        "print(op)\n"
      ],
      "execution_count": 6,
      "outputs": [
        {
          "output_type": "stream",
          "text": [
            "[[0 1 2 3 4]\n",
            " [5 6 7 8 9]]\n"
          ],
          "name": "stdout"
        }
      ]
    },
    {
      "metadata": {
        "id": "BWVRU0hj6f8h",
        "colab_type": "code",
        "colab": {
          "base_uri": "https://localhost:8080/",
          "height": 85
        },
        "outputId": "b27254b0-f428-4d92-f6f6-d1674ee5376c"
      },
      "cell_type": "code",
      "source": [
        "#Conversion of list to a Numpy Array\n",
        "a = [0,1, 2, 3, 4, 5, 6, 7, 8, 9]\n",
        "op=np.array(a)\n",
        "print(\"Numpy ARRAY: \")\n",
        "print(op)\n",
        "#Conversion of a Numpy array into a List\n",
        "a= np.array([0,1,2,3,4,5,6,7,8,9])\n",
        "op= a.tolist()\n",
        "print(\"List: \")\n",
        "print(op)"
      ],
      "execution_count": 7,
      "outputs": [
        {
          "output_type": "stream",
          "text": [
            "Numpy ARRAY: \n",
            "[0 1 2 3 4 5 6 7 8 9]\n",
            "List: \n",
            "[0, 1, 2, 3, 4, 5, 6, 7, 8, 9]\n"
          ],
          "name": "stdout"
        }
      ]
    },
    {
      "metadata": {
        "id": "AuSA4W89BAG6",
        "colab_type": "code",
        "colab": {
          "base_uri": "https://localhost:8080/",
          "height": 187
        },
        "outputId": "cd2fc986-954f-493f-ea12-83e66ee7e335"
      },
      "cell_type": "code",
      "source": [
        "#Generating an array With the border elements As 1's and the inner elements as 0's\n",
        "a=np.zeros(shape=(10,10))\n",
        "a[:,0]=1\n",
        "a[0,:]=1\n",
        "a[:,9]=1\n",
        "a[9,:]=1\n",
        "print(a)"
      ],
      "execution_count": 8,
      "outputs": [
        {
          "output_type": "stream",
          "text": [
            "[[1. 1. 1. 1. 1. 1. 1. 1. 1. 1.]\n",
            " [1. 0. 0. 0. 0. 0. 0. 0. 0. 1.]\n",
            " [1. 0. 0. 0. 0. 0. 0. 0. 0. 1.]\n",
            " [1. 0. 0. 0. 0. 0. 0. 0. 0. 1.]\n",
            " [1. 0. 0. 0. 0. 0. 0. 0. 0. 1.]\n",
            " [1. 0. 0. 0. 0. 0. 0. 0. 0. 1.]\n",
            " [1. 0. 0. 0. 0. 0. 0. 0. 0. 1.]\n",
            " [1. 0. 0. 0. 0. 0. 0. 0. 0. 1.]\n",
            " [1. 0. 0. 0. 0. 0. 0. 0. 0. 1.]\n",
            " [1. 1. 1. 1. 1. 1. 1. 1. 1. 1.]]\n"
          ],
          "name": "stdout"
        }
      ]
    },
    {
      "metadata": {
        "id": "Xal2SGt0E90f",
        "colab_type": "code",
        "colab": {
          "base_uri": "https://localhost:8080/",
          "height": 153
        },
        "outputId": "de5857ea-8c39-465f-c10e-c46829461d25"
      },
      "cell_type": "code",
      "source": [
        "#Printing an array with a CHECKERBOX PATTERN\n",
        "a = np.zeros((8,8))\n",
        "a[1::2,::2] = 1\n",
        "a[::2,1::2] = 1\n",
        "print(a)"
      ],
      "execution_count": 9,
      "outputs": [
        {
          "output_type": "stream",
          "text": [
            "[[0. 1. 0. 1. 0. 1. 0. 1.]\n",
            " [1. 0. 1. 0. 1. 0. 1. 0.]\n",
            " [0. 1. 0. 1. 0. 1. 0. 1.]\n",
            " [1. 0. 1. 0. 1. 0. 1. 0.]\n",
            " [0. 1. 0. 1. 0. 1. 0. 1.]\n",
            " [1. 0. 1. 0. 1. 0. 1. 0.]\n",
            " [0. 1. 0. 1. 0. 1. 0. 1.]\n",
            " [1. 0. 1. 0. 1. 0. 1. 0.]]\n"
          ],
          "name": "stdout"
        }
      ]
    }
  ]
}