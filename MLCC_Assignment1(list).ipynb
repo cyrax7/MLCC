{
  "nbformat": 4,
  "nbformat_minor": 0,
  "metadata": {
    "colab": {
      "name": "MLCC Assignment1(list).ipynb",
      "version": "0.3.2",
      "provenance": [],
      "include_colab_link": true
    },
    "kernelspec": {
      "name": "python3",
      "display_name": "Python 3"
    }
  },
  "cells": [
    {
      "cell_type": "markdown",
      "metadata": {
        "id": "view-in-github",
        "colab_type": "text"
      },
      "source": [
        "[View in Colaboratory](https://colab.research.google.com/github/rupamcyrax799/MLCC/blob/master/MLCC_Assignment1(list).ipynb)"
      ]
    },
    {
      "metadata": {
        "id": "aN4iVk9lG6HQ",
        "colab_type": "code",
        "colab": {
          "base_uri": "https://localhost:8080/",
          "height": 34
        },
        "outputId": "a0617996-a8bc-4ac6-c26e-2e6811249a8c"
      },
      "cell_type": "code",
      "source": [
        "dummy_list =[1,3,59,5,458,54,11,554]\n",
        "print (dummy_list)"
      ],
      "execution_count": 1,
      "outputs": [
        {
          "output_type": "stream",
          "text": [
            "[1, 3, 59, 5, 458, 54, 11, 554]\n"
          ],
          "name": "stdout"
        }
      ]
    },
    {
      "metadata": {
        "id": "sj5ga87WHJNT",
        "colab_type": "code",
        "colab": {
          "base_uri": "https://localhost:8080/",
          "height": 34
        },
        "outputId": "3bd83316-86bd-4872-c5e4-bfee12eacb33"
      },
      "cell_type": "code",
      "source": [
        "dummy_list.reverse()\n",
        "print(dummy_list)"
      ],
      "execution_count": 2,
      "outputs": [
        {
          "output_type": "stream",
          "text": [
            "[554, 11, 54, 458, 5, 59, 3, 1]\n"
          ],
          "name": "stdout"
        }
      ]
    },
    {
      "metadata": {
        "id": "mvT9ep4OHL60",
        "colab_type": "code",
        "colab": {
          "base_uri": "https://localhost:8080/",
          "height": 34
        },
        "outputId": "df04d36c-02b8-4b7a-f286-b526f2fe01a0"
      },
      "cell_type": "code",
      "source": [
        "dummy_list_2=[2,200,16,4,1,0,9.45,45.67,90,12.01,12.02]\n",
        "dummy_list.extend(dummy_list_2)\n",
        "print (dummy_list)"
      ],
      "execution_count": 3,
      "outputs": [
        {
          "output_type": "stream",
          "text": [
            "[554, 11, 54, 458, 5, 59, 3, 1, 2, 200, 16, 4, 1, 0, 9.45, 45.67, 90, 12.01, 12.02]\n"
          ],
          "name": "stdout"
        }
      ]
    },
    {
      "metadata": {
        "id": "WKvDHm2jHN9L",
        "colab_type": "code",
        "colab": {}
      },
      "cell_type": "code",
      "source": [
        "\n",
        "l= len(dummy_list)\n",
        "dummy_dict={}\n",
        "i=0\n",
        "for i in range(l) :\n",
        "  dummy_dict[dummy_list[i]]=i\n",
        "  if i==l:break;\n",
        "   "
      ],
      "execution_count": 0,
      "outputs": []
    },
    {
      "metadata": {
        "id": "VKcUTYX6HRFc",
        "colab_type": "code",
        "colab": {
          "base_uri": "https://localhost:8080/",
          "height": 34
        },
        "outputId": "be47a84e-b5f1-49c7-e5de-718230273297"
      },
      "cell_type": "code",
      "source": [
        "#printing the Dictionary\n",
        "print(dummy_dict) "
      ],
      "execution_count": 5,
      "outputs": [
        {
          "output_type": "stream",
          "text": [
            "{554: 0, 11: 1, 54: 2, 458: 3, 5: 4, 59: 5, 3: 6, 1: 12, 2: 8, 200: 9, 16: 10, 4: 11, 0: 13, 9.45: 14, 45.67: 15, 90: 16, 12.01: 17, 12.02: 18}\n"
          ],
          "name": "stdout"
        }
      ]
    },
    {
      "metadata": {
        "id": "wRjbs4BdHUSR",
        "colab_type": "code",
        "colab": {
          "base_uri": "https://localhost:8080/",
          "height": 51
        },
        "outputId": "f0bd4851-a391-494c-9293-e69de353860f"
      },
      "cell_type": "code",
      "source": [
        "#Ascending Order\n",
        "dummy_list.sort()\n",
        "print(dummy_list)\n",
        "#Decennding Order\n",
        "dummy_list.sort(reverse=True)\n",
        "print(dummy_list)"
      ],
      "execution_count": 7,
      "outputs": [
        {
          "output_type": "stream",
          "text": [
            "[0, 1, 1, 2, 3, 4, 5, 9.45, 11, 12.01, 12.02, 16, 45.67, 54, 59, 90, 200, 458, 554]\n",
            "[554, 458, 200, 90, 59, 54, 45.67, 16, 12.02, 12.01, 11, 9.45, 5, 4, 3, 2, 1, 1, 0]\n"
          ],
          "name": "stdout"
        }
      ]
    },
    {
      "metadata": {
        "id": "NbwBhXuYHaCq",
        "colab_type": "code",
        "colab": {
          "base_uri": "https://localhost:8080/",
          "height": 51
        },
        "outputId": "9745b3f2-23ff-4406-9778-139b4ef35ca2"
      },
      "cell_type": "code",
      "source": [
        "#Removing elements in a list \n",
        "print(dummy_list)\n",
        "x=200\n",
        "dummy_list.remove(x)\n",
        "print(dummy_list)"
      ],
      "execution_count": 8,
      "outputs": [
        {
          "output_type": "stream",
          "text": [
            "[554, 458, 200, 90, 59, 54, 45.67, 16, 12.02, 12.01, 11, 9.45, 5, 4, 3, 2, 1, 1, 0]\n",
            "[554, 458, 90, 59, 54, 45.67, 16, 12.02, 12.01, 11, 9.45, 5, 4, 3, 2, 1, 1, 0]\n"
          ],
          "name": "stdout"
        }
      ]
    },
    {
      "metadata": {
        "id": "MSGl3znpHckS",
        "colab_type": "code",
        "colab": {
          "base_uri": "https://localhost:8080/",
          "height": 51
        },
        "outputId": "c5910a81-70d1-4f89-deb4-e9f9d1bf1ab4"
      },
      "cell_type": "code",
      "source": [
        "#Removing elemets input by the user\n",
        "count=l+1\n",
        "#print (count)\n",
        "x= input (\"Enter a number greater than \"+str(count)+\":\")\n",
        "dummy_list.remove(int(x))\n",
        "print(dummy_list)"
      ],
      "execution_count": 9,
      "outputs": [
        {
          "output_type": "stream",
          "text": [
            "Enter a number greater than 20:90\n",
            "[554, 458, 59, 54, 45.67, 16, 12.02, 12.01, 11, 9.45, 5, 4, 3, 2, 1, 1, 0]\n"
          ],
          "name": "stdout"
        }
      ]
    },
    {
      "metadata": {
        "id": "RChpw-z2HtbR",
        "colab_type": "code",
        "colab": {
          "base_uri": "https://localhost:8080/",
          "height": 34
        },
        "outputId": "05e78185-ad43-4573-998f-c2edd0921ac4"
      },
      "cell_type": "code",
      "source": [
        "#Clear list\n",
        "dummy_list.clear()\n",
        "print (dummy_list)"
      ],
      "execution_count": 10,
      "outputs": [
        {
          "output_type": "stream",
          "text": [
            "[]\n"
          ],
          "name": "stdout"
        }
      ]
    }
  ]
}