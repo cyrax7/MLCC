{
  "nbformat": 4,
  "nbformat_minor": 0,
  "metadata": {
    "colab": {
      "name": "Assignment2(Numpy).ipynb",
      "version": "0.3.2",
      "provenance": [],
      "collapsed_sections": [],
      "include_colab_link": true
    },
    "kernelspec": {
      "name": "python3",
      "display_name": "Python 3"
    }
  },
  "cells": [
    {
      "cell_type": "markdown",
      "metadata": {
        "id": "view-in-github",
        "colab_type": "text"
      },
      "source": [
        "[View in Colaboratory](https://colab.research.google.com/github/rupamcyrax799/MLCC/blob/master/Assignment2(Numpy).ipynb)"
      ]
    },
    {
      "metadata": {
        "id": "LoLTyj82_QFv",
        "colab_type": "code",
        "colab": {}
      },
      "cell_type": "code",
      "source": [
        "import numpy as np"
      ],
      "execution_count": 0,
      "outputs": []
    },
    {
      "metadata": {
        "id": "lb23XHof_wT6",
        "colab_type": "code",
        "colab": {
          "base_uri": "https://localhost:8080/",
          "height": 68
        },
        "outputId": "d79b9e68-7782-4e38-faed-322e01192f24"
      },
      "cell_type": "code",
      "source": [
        "#Generating cyclic array of length 3n\n",
        "a=np.array([1,2,3])\n",
        "print (a)\n",
        "n=input(\"Enter the array length : \")\n",
        "b=np.resize(a,(3*int(n)))\n",
        "print (b)"
      ],
      "execution_count": 0,
      "outputs": [
        {
          "output_type": "stream",
          "text": [
            "[1 2 3]\n",
            "Enter the array length : 2\n",
            "[1 2 3 1 2 3]\n"
          ],
          "name": "stdout"
        }
      ]
    },
    {
      "metadata": {
        "id": "kvu7yRzbFxwQ",
        "colab_type": "code",
        "colab": {}
      },
      "cell_type": "code",
      "source": [
        "#Creating an array of first 10 integers\n"
      ],
      "execution_count": 0,
      "outputs": []
    }
  ]
}